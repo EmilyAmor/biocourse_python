{
 "cells": [
  {
   "cell_type": "markdown",
   "metadata": {},
   "source": [
    "                          \n",
    "\n",
    "Imagine you are given a string that represents a binary number, e.g. '1001'. How could you write a loop that would calculate the decimal version of this number? E.g. for '10' you would calculate 2.\n",
    "\n",
    "Remember that each position in binary is 2 to the power of that position. For the right-most position it is 2^0 then 2^1 then 2^2 and so on.\n"
   ]
  },
  {
   "cell_type": "markdown",
   "metadata": {},
   "source": [
    "# Garth:\n"
   ]
  },
  {
   "cell_type": "code",
   "execution_count": 82,
   "metadata": {
    "collapsed": false
   },
   "outputs": [
    {
     "name": "stdout",
     "output_type": "stream",
     "text": [
      "1\n"
     ]
    },
    {
     "ename": "TypeError",
     "evalue": "'int' object is not iterable",
     "output_type": "error",
     "traceback": [
      "\u001b[1;31m---------------------------------------------------------------------------\u001b[0m",
      "\u001b[1;31mTypeError\u001b[0m                                 Traceback (most recent call last)",
      "\u001b[1;32m<ipython-input-82-11cdb24a7aa4>\u001b[0m in \u001b[0;36m<module>\u001b[1;34m()\u001b[0m\n\u001b[0;32m      3\u001b[0m \u001b[1;31m#declare string\u001b[0m\u001b[1;33m\u001b[0m\u001b[1;33m\u001b[0m\u001b[0m\n\u001b[0;32m      4\u001b[0m \u001b[0mx\u001b[0m\u001b[1;33m=\u001b[0m\u001b[1;36m0\u001b[0m                            \u001b[1;31m#initialise answer\u001b[0m\u001b[1;33m\u001b[0m\u001b[0m\n\u001b[1;32m----> 5\u001b[1;33m \u001b[1;32mfor\u001b[0m \u001b[0mi\u001b[0m \u001b[1;32min\u001b[0m \u001b[0mlen\u001b[0m \u001b[1;33m(\u001b[0m\u001b[0my\u001b[0m\u001b[1;33m)\u001b[0m\u001b[1;33m:\u001b[0m    \u001b[1;31m#for loop up to length of y\u001b[0m\u001b[1;33m\u001b[0m\u001b[0m\n\u001b[0m\u001b[0;32m      6\u001b[0m     \u001b[0mx\u001b[0m\u001b[1;33m=\u001b[0m\u001b[0mx\u001b[0m\u001b[1;33m+\u001b[0m \u001b[0mint\u001b[0m\u001b[1;33m(\u001b[0m\u001b[0my\u001b[0m\u001b[1;33m[\u001b[0m\u001b[1;33m-\u001b[0m\u001b[1;36m1\u001b[0m\u001b[1;33m]\u001b[0m\u001b[1;33m)\u001b[0m\u001b[1;33m**\u001b[0m\u001b[0mi\u001b[0m         \u001b[1;31m# int(y[-1]) is last element in y converted to an int   # **i to the power of i which starts at 0\u001b[0m\u001b[1;33m\u001b[0m\u001b[0m\n\u001b[0;32m      7\u001b[0m     \u001b[0my\u001b[0m\u001b[1;33m=\u001b[0m\u001b[0my\u001b[0m\u001b[1;33m[\u001b[0m\u001b[1;33m:\u001b[0m\u001b[1;33m-\u001b[0m\u001b[1;36m1\u001b[0m\u001b[1;33m]\u001b[0m                   \u001b[1;31m# remove last element from y\u001b[0m\u001b[1;33m\u001b[0m\u001b[0m\n",
      "\u001b[1;31mTypeError\u001b[0m: 'int' object is not iterable"
     ]
    }
   ],
   "source": [
    "y=\"10\"  \n",
    "print (y[:-1]) \n",
    "#declare string\n",
    "x=0                            #initialise answer\n",
    "for i in len (y):    #for loop up to length of y\n",
    "    x=x+ int(y[-1])**i         # int(y[-1]) is last element in y converted to an int   # **i to the power of i which starts at 0\n",
    "    y=y[:-1]                   # remove last element from y\n",
    "\n",
    "return x\n"
   ]
  },
  {
   "cell_type": "markdown",
   "metadata": {},
   "source": [
    "# Emily:\n"
   ]
  },
  {
   "cell_type": "code",
   "execution_count": 77,
   "metadata": {
    "collapsed": false
   },
   "outputs": [
    {
     "name": "stdout",
     "output_type": "stream",
     "text": [
      "['1', '0']\n"
     ]
    },
    {
     "ename": "TypeError",
     "evalue": "unsupported operand type(s) for ** or pow(): 'int' and 'str'",
     "output_type": "error",
     "traceback": [
      "\u001b[1;31m---------------------------------------------------------------------------\u001b[0m",
      "\u001b[1;31mTypeError\u001b[0m                                 Traceback (most recent call last)",
      "\u001b[1;32m<ipython-input-77-6d5d23b8ee44>\u001b[0m in \u001b[0;36m<module>\u001b[1;34m()\u001b[0m\n\u001b[0;32m      4\u001b[0m \u001b[0mdecimal\u001b[0m \u001b[1;33m=\u001b[0m \u001b[1;36m0\u001b[0m\u001b[1;33m\u001b[0m\u001b[0m\n\u001b[0;32m      5\u001b[0m \u001b[1;32mfor\u001b[0m \u001b[0mi\u001b[0m \u001b[1;32min\u001b[0m \u001b[0mbinary_list\u001b[0m\u001b[1;33m:\u001b[0m\u001b[1;33m\u001b[0m\u001b[0m\n\u001b[1;32m----> 6\u001b[1;33m     \u001b[0mdecimal\u001b[0m \u001b[1;33m=\u001b[0m \u001b[0mdecimal\u001b[0m \u001b[1;33m+\u001b[0m \u001b[0mint\u001b[0m\u001b[1;33m(\u001b[0m\u001b[0mbinary_list\u001b[0m\u001b[1;33m[\u001b[0m\u001b[1;33m-\u001b[0m\u001b[1;36m2\u001b[0m\u001b[1;33m]\u001b[0m\u001b[1;33m)\u001b[0m \u001b[1;33m**\u001b[0m \u001b[0mi\u001b[0m\u001b[1;33m\u001b[0m\u001b[0m\n\u001b[0m\u001b[0;32m      7\u001b[0m \u001b[1;33m\u001b[0m\u001b[0m\n\u001b[0;32m      8\u001b[0m \u001b[0mprint\u001b[0m \u001b[1;33m(\u001b[0m\u001b[0mdecimal\u001b[0m\u001b[1;33m)\u001b[0m\u001b[1;33m\u001b[0m\u001b[0m\n",
      "\u001b[1;31mTypeError\u001b[0m: unsupported operand type(s) for ** or pow(): 'int' and 'str'"
     ]
    }
   ],
   "source": [
    "binary_string = \"10\"\n",
    "binary_list = list(binary_string)\n",
    "#print (binary_list)\n",
    "decimal = 0\n",
    "for i in binary_list:\n",
    "    decimal = decimal + int(binary_list[-2]) ** i\n",
    "\n",
    "print (decimal)\n",
    "\n",
    "\n",
    "    \n",
    "\n",
    "    \n",
    "\n"
   ]
  },
  {
   "cell_type": "markdown",
   "metadata": {
    "collapsed": true
   },
   "source": [
    "# Garth:\n"
   ]
  },
  {
   "cell_type": "code",
   "execution_count": 20,
   "metadata": {
    "collapsed": false
   },
   "outputs": [
    {
     "ename": "SyntaxError",
     "evalue": "Missing parentheses in call to 'print' (<ipython-input-20-b72b60dd6ec1>, line 7)",
     "output_type": "error",
     "traceback": [
      "\u001b[1;36m  File \u001b[1;32m\"<ipython-input-20-b72b60dd6ec1>\"\u001b[1;36m, line \u001b[1;32m7\u001b[0m\n\u001b[1;33m    print \"i\"\u001b[0m\n\u001b[1;37m            ^\u001b[0m\n\u001b[1;31mSyntaxError\u001b[0m\u001b[1;31m:\u001b[0m Missing parentheses in call to 'print'\n"
     ]
    }
   ],
   "source": [
    "binary_string = \"10101\"                      #21 in binary\n",
    "binary_string_length = len(binary_string)\n",
    "\n",
    "\n",
    "answer=0                                      # this could be called the accumulator. gets updated at every iteration of for loop.\n",
    "for i in range(0,binary_string_length):\n",
    "    print \"i\"\n",
    "    print i\n",
    "    print \"string\"\n",
    "    print binary_string\n",
    "    print \"binary_string[-1]\"                 #last element. We read binary from left to right\n",
    "    print binary_string[-1]\n",
    "    answer = answer + ((int(binary_string[-1])*2)**i)    #add to accumulator the value 2^binary place if bit=1 (0 otherwise)\n",
    "    print \"((int(binary_string[-1])*2)**i)\"\n",
    "    print  ((int(binary_string[-1])*2)**i)\n",
    "    binary_string = binary_string[:-1]         #chop off last element of string by making string = string up to last element\n",
    "    print answer                               #remember that a string is just a list of chars\n",
    "    print \"_________________________\"\n",
    "print answer\n"
   ]
  },
  {
   "cell_type": "markdown",
   "metadata": {},
   "source": [
    "# Emily"
   ]
  },
  {
   "cell_type": "code",
   "execution_count": 22,
   "metadata": {
    "collapsed": false
   },
   "outputs": [
    {
     "name": "stdout",
     "output_type": "stream",
     "text": [
      "i: 0\n",
      "string: 1001\n",
      "last elelment: 1\n",
      "((int(binary_string[-1])*2)**i)= 1\n",
      "new binary string: 100\n",
      "1\n",
      "i: 1\n",
      "string: 100\n",
      "last elelment: 0\n",
      "((int(binary_string[-1])*2)**i)= 0\n",
      "new binary string: 10\n",
      "1\n",
      "i: 2\n",
      "string: 10\n",
      "last elelment: 0\n",
      "((int(binary_string[-1])*2)**i)= 0\n",
      "new binary string: 1\n",
      "1\n",
      "i: 3\n",
      "string: 1\n",
      "last elelment: 1\n",
      "((int(binary_string[-1])*2)**i)= 8\n",
      "new binary string: \n",
      "9\n",
      "final answers: 9\n"
     ]
    }
   ],
   "source": [
    "binary_string = \"1001\"                      #21 in binary\n",
    "binary_string_length = len(binary_string)\n",
    "\n",
    "\n",
    "answer=0                                      # this could be called the accumulator. gets updated at every iteration of for loop.\n",
    "for i in range(0,binary_string_length):\n",
    "    print (\"i:\",i)\n",
    "    print (\"string:\", binary_string)\n",
    "    print(\"last elelment:\", binary_string[-1])  #last element. We read binary from left to right\n",
    "    answer = answer + ((int(binary_string[-1])*2)**i) #add to accumulator the value 2^binary place if bit=1 (0 otherwise)\n",
    "    print (\"((int(binary_string[-1])*2)**i)=\", (int(binary_string[-1])*2)**i)\n",
    "    binary_string = binary_string[:-1]   \n",
    "    print ('new binary string:', binary_string)#chop off last element of string by making string = string up to last element\n",
    "    print (answer)          #remember that a string is just a list of chars\n",
    "\n",
    "print (\"final answers:\",answer)"
   ]
  },
  {
   "cell_type": "markdown",
   "metadata": {},
   "source": [
    "# Just another example\n"
   ]
  },
  {
   "cell_type": "code",
   "execution_count": 37,
   "metadata": {
    "collapsed": false
   },
   "outputs": [
    {
     "name": "stdout",
     "output_type": "stream",
     "text": [
      "i: 0\n",
      "string: 1001001\n",
      "(int(binary_string[-1]*2)**i): 1\n",
      "answer: 1\n",
      "new binary_string: 100100\n",
      "i: 1\n",
      "string: 100100\n",
      "(int(binary_string[-1]*2)**i): 0\n",
      "answer: 1\n",
      "new binary_string: 10010\n",
      "i: 2\n",
      "string: 10010\n",
      "(int(binary_string[-1]*2)**i): 0\n",
      "answer: 1\n",
      "new binary_string: 1001\n",
      "i: 3\n",
      "string: 1001\n",
      "(int(binary_string[-1]*2)**i): 8\n",
      "answer: 9\n",
      "new binary_string: 100\n",
      "i: 4\n",
      "string: 100\n",
      "(int(binary_string[-1]*2)**i): 0\n",
      "answer: 9\n",
      "new binary_string: 10\n",
      "i: 5\n",
      "string: 10\n",
      "(int(binary_string[-1]*2)**i): 0\n",
      "answer: 9\n",
      "new binary_string: 1\n",
      "i: 6\n",
      "string: 1\n",
      "(int(binary_string[-1]*2)**i): 64\n",
      "answer: 73\n",
      "new binary_string: \n",
      "final answer: 73\n"
     ]
    }
   ],
   "source": [
    "binary_string = '1001001' # 73 in decimals\n",
    "answer = 0 \n",
    "for i in range(0, len(binary_string)):\n",
    "    print (\"i:\", i)\n",
    "    print (\"string:\", binary_string)\n",
    "    print (\"(int(binary_string[-1]*2)**i):\",(int(binary_string[-1])*2)**i)\n",
    "    answer = answer + ((int(binary_string[-1])*2)**i)\n",
    "    print ('answer:', answer)\n",
    "    binary_string = binary_string[:-1]\n",
    "    print ('new binary_string:', binary_string)\n",
    "print ('final answer:', answer)"
   ]
  },
  {
   "cell_type": "code",
   "execution_count": null,
   "metadata": {
    "collapsed": true
   },
   "outputs": [],
   "source": []
  }
 ],
 "metadata": {
  "kernelspec": {
   "display_name": "Python [Root]",
   "language": "python",
   "name": "Python [Root]"
  },
  "language_info": {
   "codemirror_mode": {
    "name": "ipython",
    "version": 3
   },
   "file_extension": ".py",
   "mimetype": "text/x-python",
   "name": "python",
   "nbconvert_exporter": "python",
   "pygments_lexer": "ipython3",
   "version": "3.5.2"
  }
 },
 "nbformat": 4,
 "nbformat_minor": 0
}
