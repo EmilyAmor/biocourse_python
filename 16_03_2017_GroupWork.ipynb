{
 "cells": [
  {
   "cell_type": "code",
   "execution_count": null,
   "metadata": {
    "collapsed": true
   },
   "outputs": [],
   "source": [
    "\"\"\"function 1\"\"\"\n",
    "def top_marks(marks):\n",
    "    sorted_marks = sorted(marks, reverse = True) \n",
    "    top_marks = sorted_marks[:5]\n",
    "    return top_marks\n",
    "  \n",
    "  \n",
    "\"\"\"function 2\"\"\"\n",
    "def gc_content(sequence):\n",
    "    All = len(python_sequence.replace(\"\\n\", \"\"))\n",
    "    GC = 0\n",
    "    for base in sequence:\n",
    "        if base == \"G\":\n",
    "            GC = GC+1\n",
    "        elif base == \"C\":\n",
    "            GC = GC+1\n",
    "    total = round((GC/All)*100)\n",
    "    return total\n",
    "  \n",
    "  \n",
    "\"\"\"function 3\"\"\"\n",
    "def team_points(our_scores, their_scores):\n",
    "    our_points = 0\n",
    "    match = 0\n",
    "    for match in range(len(our_scores)):\n",
    "        if our_scores[match] > their_scores[match]:\n",
    "            our_points = our_points + 2\n",
    "        elif our_scores[match] == their_scores[match]:\n",
    "            our_points = our_points + 1\n",
    "        match = match + 1\n",
    "return our_points"
   ]
  }
 ],
 "metadata": {
  "anaconda-cloud": {},
  "kernelspec": {
   "display_name": "Python [Root]",
   "language": "python",
   "name": "Python [Root]"
  },
  "language_info": {
   "codemirror_mode": {
    "name": "ipython",
    "version": 3
   },
   "file_extension": ".py",
   "mimetype": "text/x-python",
   "name": "python",
   "nbconvert_exporter": "python",
   "pygments_lexer": "ipython3",
   "version": "3.5.2"
  }
 },
 "nbformat": 4,
 "nbformat_minor": 0
}
